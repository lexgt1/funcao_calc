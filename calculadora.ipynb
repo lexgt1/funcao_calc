{
  "nbformat": 4,
  "nbformat_minor": 0,
  "metadata": {
    "colab": {
      "provenance": [],
      "authorship_tag": "ABX9TyMoNo6zd9fh0Bv3cIYaSVRD",
      "include_colab_link": true
    },
    "kernelspec": {
      "name": "python3",
      "display_name": "Python 3"
    },
    "language_info": {
      "name": "python"
    }
  },
  "cells": [
    {
      "cell_type": "markdown",
      "metadata": {
        "id": "view-in-github",
        "colab_type": "text"
      },
      "source": [
        "<a href=\"https://colab.research.google.com/github/lexgt1/funcao_calc/blob/main/calculadora.ipynb\" target=\"_parent\"><img src=\"https://colab.research.google.com/assets/colab-badge.svg\" alt=\"Open In Colab\"/></a>"
      ]
    },
    {
      "cell_type": "code",
      "execution_count": 5,
      "metadata": {
        "colab": {
          "base_uri": "https://localhost:8080/"
        },
        "id": "BafIxhBRVmMU",
        "outputId": "61495f4f-4e8d-4a2f-bf59-5d5b2b42ae67"
      },
      "outputs": [
        {
          "name": "stdout",
          "output_type": "stream",
          "text": [
            "0. Sair\n",
            "1. Somar\n",
            "2. Subtrair\n",
            "3. Multiplicação\n",
            "4. Divisão \n",
            "Operação: 3\n",
            "Primeiro numero: 2\n",
            "Segundo numero: 2\n",
            "Multiplicação:  4.0\n",
            "0. Sair\n",
            "1. Somar\n",
            "2. Subtrair\n",
            "3. Multiplicação\n",
            "4. Divisão \n",
            "Operação: 0\n"
          ]
        }
      ],
      "source": [
        "def soma():\n",
        "    num = float(input(\"Primeiro numero: \"))\n",
        "    num1 = float(input(\"Segundo numero: \"))\n",
        "    print(\"Soma: \",num+num1)\n",
        "\n",
        "def sub():\n",
        "    num = float(input(\"Primeiro numero: \"))\n",
        "    num1 = float(input(\"Segundo numero: \"))\n",
        "    print(\"Subtração: \",num-num1)\n",
        "\n",
        "def multi():\n",
        "    num = float(input(\"Primeiro numero: \"))\n",
        "    num1 = float(input(\"Segundo numero: \"))\n",
        "    print(\"Multiplicação: \",num*num1)\n",
        "\n",
        "def divi():\n",
        "    num = float(input(\"Primeiro numero: \"))\n",
        "    num1 = float(input(\"Segundo numero: \"))\n",
        "    print(\"Divisao: \",num/num1)\n",
        "\n",
        "ope=1\n",
        "\n",
        "while ope:\n",
        "    print(\"0. Sair\")\n",
        "    print(\"1. Somar\")\n",
        "    print(\"2. Subtrair\")\n",
        "    print(\"3. Multiplicação\")\n",
        "    print(\"4. Divisão \")\n",
        "\n",
        "    ope = int(input(\"Operação: \"))\n",
        "\n",
        "    if(ope==1):\n",
        "        soma()\n",
        "    if(ope==2):\n",
        "        sub()\n",
        "    if(ope==3):\n",
        "        multi()\n",
        "    if(ope==4):\n",
        "        divi()"
      ]
    }
  ]
}